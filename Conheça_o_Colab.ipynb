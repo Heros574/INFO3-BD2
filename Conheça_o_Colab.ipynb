{
  "cells": [
    {
      "cell_type": "markdown",
      "source": [
        "conecta ao banco"
      ],
      "metadata": {
        "id": "Gipp_WRYW_AU"
      }
    },
    {
      "cell_type": "code",
      "source": [
        "## Forma mais direta\n",
        "import sqlite3\n",
        "connection = sqlite3.connect(\"pizza_app.sqlite\")"
      ],
      "metadata": {
        "id": "CXXTu4oDqVKk"
      },
      "execution_count": 1,
      "outputs": []
    },
    {
      "cell_type": "markdown",
      "source": [
        "Faz a query e controla erros"
      ],
      "metadata": {
        "id": "JPJsRJYfXRF8"
      }
    },
    {
      "cell_type": "code",
      "execution_count": 3,
      "metadata": {
        "id": "ZqeW5rBZcKLf"
      },
      "outputs": [],
      "source": [
        "from sqlite3 import Error\n",
        "\n",
        "def execute_query(connection, query):\n",
        "    cursor = connection.cursor()\n",
        "    try:\n",
        "        cursor.execute(query)\n",
        "\n",
        "        # commit necessário para alterações no banco\n",
        "        connection.commit() ###\n",
        "\n",
        "        print(f\"Query executada.\")\n",
        "        if cursor.rowcount != -1:\n",
        "            print(f\"{cursor.rowcount} linha(s) afetadas\")\n",
        "\n",
        "    except Error as e:\n",
        "        print(f\"Erro: '{e}'\")"
      ]
    },
    {
      "cell_type": "markdown",
      "source": [
        "Faz as tabelas\n"
      ],
      "metadata": {
        "id": "HEZGEH1fXmNk"
      }
    },
    {
      "cell_type": "code",
      "execution_count": 4,
      "metadata": {
        "colab": {
          "base_uri": "https://localhost:8080/"
        },
        "id": "6mwP6NVl2ryY",
        "outputId": "1df48165-821f-4b2e-f902-28d38ed3f89b"
      },
      "outputs": [
        {
          "output_type": "stream",
          "name": "stdout",
          "text": [
            "Query executada.\n",
            "Query executada.\n",
            "Query executada.\n"
          ]
        }
      ],
      "source": [
        "# Cria a tabela produto #\n",
        "create_produto_table = \\\n",
        "\"\"\"CREATE TABLE produto (\n",
        "    id_produto INTEGER PRIMARY KEY AUTOINCREMENT,\n",
        "    tipo VARCHAR(50),\n",
        "    desc_item VARCHAR(100),\n",
        "    vl_preco DECIMAL(10, 2)\n",
        ");\"\"\"\n",
        "\n",
        "execute_query(connection, create_produto_table)\n",
        "#########################\n",
        "\n",
        "# Cria a tabela pedido #\n",
        "create_pedido_table = \\\n",
        "\"\"\"CREATE TABLE pedido (\n",
        "    id_pedido INTEGER PRIMARY KEY AUTOINCREMENT,\n",
        "    dt_pedido DATE,\n",
        "    fl_ketchup BOOLEAN,\n",
        "    desc_uf CHAR(2),\n",
        "    txt_recado TEXT\n",
        ");\"\"\"\n",
        "\n",
        "execute_query(connection, create_pedido_table)\n",
        "#########################\n",
        "\n",
        "# Cria a tabela item_pedido #\n",
        "create_item_pedido_table = \\\n",
        "\"\"\"CREATE TABLE item_pedido (\n",
        "    id_pedido INT NOT NULL,\n",
        "    id_produto INT NOT NULL,\n",
        "    quantidade INT NOT NULL,\n",
        "    PRIMARY KEY (id_pedido, id_produto),\n",
        "    FOREIGN KEY (id_pedido) REFERENCES pedido(id_pedido),\n",
        "    FOREIGN KEY (id_produto) REFERENCES produto(id_produto)\n",
        ");\"\"\"\n",
        "execute_query(connection, create_item_pedido_table)\n",
        "#########################"
      ]
    },
    {
      "cell_type": "markdown",
      "source": [
        "Insere valores nas tabelas"
      ],
      "metadata": {
        "id": "Dd2sKaLlX2WP"
      }
    },
    {
      "cell_type": "code",
      "execution_count": 5,
      "metadata": {
        "colab": {
          "base_uri": "https://localhost:8080/"
        },
        "id": "iKN5peOAdcxW",
        "outputId": "277db7d8-2c0c-4684-e9c3-a078e1cdbe16"
      },
      "outputs": [
        {
          "output_type": "stream",
          "name": "stdout",
          "text": [
            "Query executada.\n",
            "5 linha(s) afetadas\n",
            "Query executada.\n",
            "1 linha(s) afetadas\n"
          ]
        }
      ],
      "source": [
        "## Inserindo registros manualmente\n",
        "\n",
        "# Inserindo produto #\n",
        "insert_produto = \\\n",
        "\"\"\"INSERT INTO\n",
        "produto (tipo, desc_item, vl_preco)\n",
        "VALUES\n",
        "('ingrediente', 'camarão', 6),\n",
        "('massa', 'tradicional', 9.25),\n",
        "('borda', 'tradicional', 0),\n",
        "('queijo', 'muçarela', 4),\n",
        "('bebida', 'refrigerante', 5);\n",
        "\"\"\"\n",
        "execute_query(connection, insert_produto)\n",
        "######################\n",
        "\n",
        "# Inserindo pedido\n",
        "insert_pedido = \\\n",
        "\"\"\"INSERT INTO\n",
        "pedido (dt_pedido, fl_ketchup, desc_uf, txt_recado)\n",
        "VALUES\n",
        "('2023-06-01', TRUE, 'MG', 'Capricha no queijo!');\n",
        "\"\"\"\n",
        "execute_query(connection, insert_pedido)\n",
        "######################"
      ]
    },
    {
      "cell_type": "markdown",
      "source": [
        "forma automatizada"
      ],
      "metadata": {
        "id": "nlVph0LdX5r0"
      }
    },
    {
      "cell_type": "code",
      "source": [
        "# Inserindo item_pedido\n",
        "itens = (\n",
        "    {'id_pedido': 1, 'id_produto': 2, 'qtd': 1},\n",
        "    {'id_pedido': 1, 'id_produto': 3, 'qtd': 1},\n",
        "    {'id_pedido': 1, 'id_produto': 1, 'qtd': 1},\n",
        "    {'id_pedido': 1, 'id_produto': 4, 'qtd': 2},\n",
        "    {'id_pedido': 1, 'id_produto': 5, 'qtd': 3}\n",
        ")\n",
        "\n",
        "insert_item_pedido = \\\n",
        "\"\"\"INSERT INTO item_pedido (id_pedido, id_produto, quantidade)\n",
        "VALUES(:id_pedido, :id_produto, :qtd);\"\"\"\n",
        "\n",
        "cursor = connection.cursor()\n",
        "cursor.executemany(insert_item_pedido, itens)\n",
        "connection.commit() # necessário para inserções\n",
        "cursor.close()"
      ],
      "metadata": {
        "id": "M4Qf26s6T78N"
      },
      "execution_count": 6,
      "outputs": []
    },
    {
      "cell_type": "markdown",
      "source": [
        "executando query pra pegar informação"
      ],
      "metadata": {
        "id": "JMDw0C-OZNCM"
      }
    },
    {
      "cell_type": "code",
      "execution_count": 7,
      "metadata": {
        "id": "1plkYvzVk8F5"
      },
      "outputs": [],
      "source": [
        "def execute_read_query(connection, query):\n",
        "    cursor = connection.cursor()\n",
        "    result = None\n",
        "    try:\n",
        "        cursor.execute(query)\n",
        "        result = cursor.fetchall()\n",
        "\n",
        "        return result\n",
        "    except Error as e:\n",
        "        print(f\"Erro: '{e}'\")"
      ]
    },
    {
      "cell_type": "code",
      "source": [
        "tabela = 'produto'\n",
        "query = f\"SELECT * FROM {tabela}\"\n",
        "resultado = execute_read_query(connection, query)\n",
        "\n",
        "print(f\"Tabela: {tabela}\")\n",
        "for res in resultado:\n",
        "    print(res)"
      ],
      "metadata": {
        "colab": {
          "base_uri": "https://localhost:8080/"
        },
        "id": "yHEO51ahxr5A",
        "outputId": "c0e46f7e-e814-4fff-f5d9-5d7ea602df3c"
      },
      "execution_count": 9,
      "outputs": [
        {
          "output_type": "stream",
          "name": "stdout",
          "text": [
            "Tabela: produto\n",
            "(1, 'ingrediente', 'camarão', 6)\n",
            "(2, 'massa', 'tradicional', 9.25)\n",
            "(3, 'borda', 'tradicional', 0)\n",
            "(4, 'queijo', 'muçarela', 4)\n",
            "(5, 'bebida', 'refrigerante', 5)\n"
          ]
        }
      ]
    }
  ],
  "metadata": {
    "colab": {
      "provenance": []
    },
    "kernelspec": {
      "display_name": "Python 3",
      "name": "python3"
    }
  },
  "nbformat": 4,
  "nbformat_minor": 0
}