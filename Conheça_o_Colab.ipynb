{
  "cells": [
    {
      "cell_type": "markdown",
      "source": [
        "conecta ao banco"
      ],
      "metadata": {
        "id": "Gipp_WRYW_AU"
      }
    },
    {
      "cell_type": "code",
      "source": [
        "## Forma mais direta\n",
        "import sqlite3\n",
        "connection = sqlite3.connect(\"pizza_app.sqlite\")"
      ],
      "metadata": {
        "id": "CXXTu4oDqVKk"
      },
      "execution_count": 1,
      "outputs": []
    },
    {
      "cell_type": "markdown",
      "source": [
        "Faz a query e controla erros"
      ],
      "metadata": {
        "id": "JPJsRJYfXRF8"
      }
    },
    {
      "cell_type": "code",
      "execution_count": 3,
      "metadata": {
        "id": "ZqeW5rBZcKLf"
      },
      "outputs": [],
      "source": [
        "from sqlite3 import Error\n",
        "\n",
        "def execute_query(connection, query):\n",
        "    cursor = connection.cursor()\n",
        "    try:\n",
        "        cursor.execute(query)\n",
        "\n",
        "        # commit necessário para alterações no banco\n",
        "        connection.commit() ###\n",
        "\n",
        "        print(f\"Query executada.\")\n",
        "        if cursor.rowcount != -1:\n",
        "            print(f\"{cursor.rowcount} linha(s) afetadas\")\n",
        "\n",
        "    except Error as e:\n",
        "        print(f\"Erro: '{e}'\")"
      ]
    },
    {
      "cell_type": "markdown",
      "source": [
        "Faz as tabelas\n"
      ],
      "metadata": {
        "id": "HEZGEH1fXmNk"
      }
    },
    {
      "cell_type": "code",
      "execution_count": 4,
      "metadata": {
        "colab": {
          "base_uri": "https://localhost:8080/"
        },
        "id": "6mwP6NVl2ryY",
        "outputId": "1df48165-821f-4b2e-f902-28d38ed3f89b"
      },
      "outputs": [
        {
          "output_type": "stream",
          "name": "stdout",
          "text": [
            "Query executada.\n",
            "Query executada.\n",
            "Query executada.\n"
          ]
        }
      ],
      "source": [
        "# Cria a tabela produto #\n",
        "create_produto_table = \\\n",
        "\"\"\"CREATE TABLE produto (\n",
        "    id_produto INTEGER PRIMARY KEY AUTOINCREMENT,\n",
        "    tipo VARCHAR(50),\n",
        "    desc_item VARCHAR(100),\n",
        "    vl_preco DECIMAL(10, 2)\n",
        ");\"\"\"\n",
        "\n",
        "execute_query(connection, create_produto_table)\n",
        "#########################\n",
        "\n",
        "# Cria a tabela pedido #\n",
        "create_pedido_table = \\\n",
        "\"\"\"CREATE TABLE pedido (\n",
        "    id_pedido INTEGER PRIMARY KEY AUTOINCREMENT,\n",
        "    dt_pedido DATE,\n",
        "    fl_ketchup BOOLEAN,\n",
        "    desc_uf CHAR(2),\n",
        "    txt_recado TEXT\n",
        ");\"\"\"\n",
        "\n",
        "execute_query(connection, create_pedido_table)\n",
        "#########################\n",
        "\n",
        "# Cria a tabela item_pedido #\n",
        "create_item_pedido_table = \\\n",
        "\"\"\"CREATE TABLE item_pedido (\n",
        "    id_pedido INT NOT NULL,\n",
        "    id_produto INT NOT NULL,\n",
        "    quantidade INT NOT NULL,\n",
        "    PRIMARY KEY (id_pedido, id_produto),\n",
        "    FOREIGN KEY (id_pedido) REFERENCES pedido(id_pedido),\n",
        "    FOREIGN KEY (id_produto) REFERENCES produto(id_produto)\n",
        ");\"\"\"\n",
        "execute_query(connection, create_item_pedido_table)\n",
        "#########################"
      ]
    },
    {
      "cell_type": "markdown",
      "source": [
        "Insere valores nas tabelas"
      ],
      "metadata": {
        "id": "Dd2sKaLlX2WP"
      }
    },
    {
      "cell_type": "code",
      "execution_count": 5,
      "metadata": {
        "colab": {
          "base_uri": "https://localhost:8080/"
        },
        "id": "iKN5peOAdcxW",
        "outputId": "277db7d8-2c0c-4684-e9c3-a078e1cdbe16"
      },
      "outputs": [
        {
          "output_type": "stream",
          "name": "stdout",
          "text": [
            "Query executada.\n",
            "5 linha(s) afetadas\n",
            "Query executada.\n",
            "1 linha(s) afetadas\n"
          ]
        }
      ],
      "source": [
        "## Inserindo registros manualmente\n",
        "\n",
        "# Inserindo produto #\n",
        "insert_produto = \\\n",
        "\"\"\"INSERT INTO\n",
        "produto (tipo, desc_item, vl_preco)\n",
        "VALUES\n",
        "('ingrediente', 'camarão', 6),\n",
        "('massa', 'tradicional', 9.25),\n",
        "('borda', 'tradicional', 0),\n",
        "('queijo', 'muçarela', 4),\n",
        "('bebida', 'refrigerante', 5);\n",
        "\"\"\"\n",
        "execute_query(connection, insert_produto)\n",
        "######################\n",
        "\n",
        "# Inserindo pedido\n",
        "insert_pedido = \\\n",
        "\"\"\"INSERT INTO\n",
        "pedido (dt_pedido, fl_ketchup, desc_uf, txt_recado)\n",
        "VALUES\n",
        "('2023-06-01', TRUE, 'MG', 'Capricha no queijo!');\n",
        "\"\"\"\n",
        "execute_query(connection, insert_pedido)\n",
        "######################"
      ]
    },
    {
      "cell_type": "markdown",
      "source": [
        "forma automatizada"
      ],
      "metadata": {
        "id": "nlVph0LdX5r0"
      }
    },
    {
      "cell_type": "code",
      "source": [
        "# Inserindo item_pedido\n",
        "itens = (\n",
        "    {'id_pedido': 1, 'id_produto': 2, 'qtd': 1},\n",
        "    {'id_pedido': 1, 'id_produto': 3, 'qtd': 1},\n",
        "    {'id_pedido': 1, 'id_produto': 1, 'qtd': 1},\n",
        "    {'id_pedido': 1, 'id_produto': 4, 'qtd': 2},\n",
        "    {'id_pedido': 1, 'id_produto': 5, 'qtd': 3}\n",
        ")\n",
        "\n",
        "insert_item_pedido = \\\n",
        "\"\"\"INSERT INTO item_pedido (id_pedido, id_produto, quantidade)\n",
        "VALUES(:id_pedido, :id_produto, :qtd);\"\"\"\n",
        "\n",
        "cursor = connection.cursor()\n",
        "cursor.executemany(insert_item_pedido, itens)\n",
        "connection.commit() # necessário para inserções\n",
        "cursor.close()"
      ],
      "metadata": {
        "id": "M4Qf26s6T78N"
      },
      "execution_count": 6,
      "outputs": []
    },
    {
      "cell_type": "markdown",
      "source": [
        "executando query pra pegar informação"
      ],
      "metadata": {
        "id": "JMDw0C-OZNCM"
      }
    },
    {
      "cell_type": "code",
      "execution_count": 7,
      "metadata": {
        "id": "1plkYvzVk8F5"
      },
      "outputs": [],
      "source": [
        "def execute_read_query(connection, query):\n",
        "    cursor = connection.cursor()\n",
        "    result = None\n",
        "    try:\n",
        "        cursor.execute(query)\n",
        "        result = cursor.fetchall()\n",
        "\n",
        "        return result\n",
        "    except Error as e:\n",
        "        print(f\"Erro: '{e}'\")"
      ]
    },
    {
      "cell_type": "code",
      "source": [
        "tabela = 'produto'\n",
        "query = f\"SELECT * FROM {tabela}\"\n",
        "resultado = execute_read_query(connection, query)\n",
        "\n",
        "print(f\"Tabela: {tabela}\")\n",
        "for res in resultado:\n",
        "    print(res)"
      ],
      "metadata": {
        "colab": {
          "base_uri": "https://localhost:8080/"
        },
        "id": "yHEO51ahxr5A",
        "outputId": "c0e46f7e-e814-4fff-f5d9-5d7ea602df3c"
      },
      "execution_count": 9,
      "outputs": [
        {
          "output_type": "stream",
          "name": "stdout",
          "text": [
            "Tabela: produto\n",
            "(1, 'ingrediente', 'camarão', 6)\n",
            "(2, 'massa', 'tradicional', 9.25)\n",
            "(3, 'borda', 'tradicional', 0)\n",
            "(4, 'queijo', 'muçarela', 4)\n",
            "(5, 'bebida', 'refrigerante', 5)\n"
          ]
        }
      ]
    },
    {
      "cell_type": "markdown",
      "source": [
        "Deleta as informações para fazer com o pandas\n",
        "\n"
      ],
      "metadata": {
        "id": "rumoofCLbvEk"
      }
    },
    {
      "cell_type": "code",
      "source": [
        "execute_query(connection, \"DELETE FROM item_pedido;\")\n",
        "execute_query(connection, \"DELETE FROM pedido;\")\n",
        "execute_query(connection, \"DELETE FROM produto;\")"
      ],
      "metadata": {
        "colab": {
          "base_uri": "https://localhost:8080/"
        },
        "id": "_1KNv9rSnesZ",
        "outputId": "1bc678ae-849c-4570-c561-d18407174f55"
      },
      "execution_count": 14,
      "outputs": [
        {
          "output_type": "stream",
          "name": "stdout",
          "text": [
            "Query executada.\n",
            "0 linha(s) afetadas\n",
            "Query executada.\n",
            "0 linha(s) afetadas\n",
            "Query executada.\n",
            "0 linha(s) afetadas\n"
          ]
        }
      ]
    },
    {
      "cell_type": "markdown",
      "source": [
        "Carrega os arquivos usados"
      ],
      "metadata": {
        "id": "-E5MUiIFb-Ox"
      }
    },
    {
      "cell_type": "markdown",
      "source": [
        "Coloca o pandas"
      ],
      "metadata": {
        "id": "VsLym68XcLI6"
      }
    },
    {
      "cell_type": "code",
      "source": [
        "! wget https://raw.githubusercontent.com/camilalaranjeira/python-intermediario/main/pizza_query/item_pedido.csv\n",
        "! wget https://raw.githubusercontent.com/camilalaranjeira/python-intermediario/main/pizza_query/pedido.csv\n",
        "! wget https://raw.githubusercontent.com/camilalaranjeira/python-intermediario/main/pizza_query/produto.csv"
      ],
      "metadata": {
        "id": "kXJEOqVYshns",
        "colab": {
          "base_uri": "https://localhost:8080/"
        },
        "outputId": "f3c4c836-1d09-49b1-94bf-7dc59e0730ee"
      },
      "execution_count": 17,
      "outputs": [
        {
          "output_type": "stream",
          "name": "stdout",
          "text": [
            "--2025-07-16 13:35:11--  https://raw.githubusercontent.com/camilalaranjeira/python-intermediario/main/pizza_query/item_pedido.csv\n",
            "Resolving raw.githubusercontent.com (raw.githubusercontent.com)... 185.199.108.133, 185.199.109.133, 185.199.110.133, ...\n",
            "Connecting to raw.githubusercontent.com (raw.githubusercontent.com)|185.199.108.133|:443... connected.\n",
            "HTTP request sent, awaiting response... 200 OK\n",
            "Length: 103557 (101K) [text/plain]\n",
            "Saving to: ‘item_pedido.csv’\n",
            "\n",
            "item_pedido.csv     100%[===================>] 101.13K  --.-KB/s    in 0.02s   \n",
            "\n",
            "2025-07-16 13:35:11 (4.02 MB/s) - ‘item_pedido.csv’ saved [103557/103557]\n",
            "\n",
            "--2025-07-16 13:35:11--  https://raw.githubusercontent.com/camilalaranjeira/python-intermediario/main/pizza_query/pedido.csv\n",
            "Resolving raw.githubusercontent.com (raw.githubusercontent.com)... 185.199.109.133, 185.199.111.133, 185.199.108.133, ...\n",
            "Connecting to raw.githubusercontent.com (raw.githubusercontent.com)|185.199.109.133|:443... connected.\n",
            "HTTP request sent, awaiting response... 200 OK\n",
            "Length: 48218 (47K) [text/plain]\n",
            "Saving to: ‘pedido.csv’\n",
            "\n",
            "pedido.csv          100%[===================>]  47.09K  --.-KB/s    in 0.01s   \n",
            "\n",
            "2025-07-16 13:35:11 (3.59 MB/s) - ‘pedido.csv’ saved [48218/48218]\n",
            "\n",
            "--2025-07-16 13:35:11--  https://raw.githubusercontent.com/camilalaranjeira/python-intermediario/main/pizza_query/produto.csv\n",
            "Resolving raw.githubusercontent.com (raw.githubusercontent.com)... 185.199.109.133, 185.199.111.133, 185.199.108.133, ...\n",
            "Connecting to raw.githubusercontent.com (raw.githubusercontent.com)|185.199.109.133|:443... connected.\n",
            "HTTP request sent, awaiting response... 200 OK\n",
            "Length: 2456 (2.4K) [text/plain]\n",
            "Saving to: ‘produto.csv’\n",
            "\n",
            "produto.csv         100%[===================>]   2.40K  --.-KB/s    in 0s      \n",
            "\n",
            "2025-07-16 13:35:11 (33.1 MB/s) - ‘produto.csv’ saved [2456/2456]\n",
            "\n"
          ]
        }
      ]
    },
    {
      "cell_type": "code",
      "source": [
        "import pandas as pd\n",
        "df_pedido = pd.read_csv(f'pedido.csv')\n",
        "display(df_pedido.head())"
      ],
      "metadata": {
        "colab": {
          "base_uri": "https://localhost:8080/",
          "height": 206
        },
        "id": "ai3qEuitzbNd",
        "outputId": "dd0da8da-1684-46e0-85da-df2e3554ef5f"
      },
      "execution_count": 18,
      "outputs": [
        {
          "output_type": "display_data",
          "data": {
            "text/plain": [
              "   id_pedido   dt_pedido fl_ketchup desc_uf                  txt_recado\n",
              "0          0  2023-05-11        NaN      GO                         NaN\n",
              "1          1  2023-05-11        NaN      PR  Aquela pizza perfeita! :-D\n",
              "2          2  2023-05-11        NaN      SP            Muito obrigado!!\n",
              "3          3  2023-05-11        NaN      SP                         NaN\n",
              "4          4  2023-05-11        NaN      RS        Capricha no peperoni"
            ],
            "text/html": [
              "\n",
              "  <div id=\"df-4b12e89c-345a-4811-903c-d5f0d3da35a1\" class=\"colab-df-container\">\n",
              "    <div>\n",
              "<style scoped>\n",
              "    .dataframe tbody tr th:only-of-type {\n",
              "        vertical-align: middle;\n",
              "    }\n",
              "\n",
              "    .dataframe tbody tr th {\n",
              "        vertical-align: top;\n",
              "    }\n",
              "\n",
              "    .dataframe thead th {\n",
              "        text-align: right;\n",
              "    }\n",
              "</style>\n",
              "<table border=\"1\" class=\"dataframe\">\n",
              "  <thead>\n",
              "    <tr style=\"text-align: right;\">\n",
              "      <th></th>\n",
              "      <th>id_pedido</th>\n",
              "      <th>dt_pedido</th>\n",
              "      <th>fl_ketchup</th>\n",
              "      <th>desc_uf</th>\n",
              "      <th>txt_recado</th>\n",
              "    </tr>\n",
              "  </thead>\n",
              "  <tbody>\n",
              "    <tr>\n",
              "      <th>0</th>\n",
              "      <td>0</td>\n",
              "      <td>2023-05-11</td>\n",
              "      <td>NaN</td>\n",
              "      <td>GO</td>\n",
              "      <td>NaN</td>\n",
              "    </tr>\n",
              "    <tr>\n",
              "      <th>1</th>\n",
              "      <td>1</td>\n",
              "      <td>2023-05-11</td>\n",
              "      <td>NaN</td>\n",
              "      <td>PR</td>\n",
              "      <td>Aquela pizza perfeita! :-D</td>\n",
              "    </tr>\n",
              "    <tr>\n",
              "      <th>2</th>\n",
              "      <td>2</td>\n",
              "      <td>2023-05-11</td>\n",
              "      <td>NaN</td>\n",
              "      <td>SP</td>\n",
              "      <td>Muito obrigado!!</td>\n",
              "    </tr>\n",
              "    <tr>\n",
              "      <th>3</th>\n",
              "      <td>3</td>\n",
              "      <td>2023-05-11</td>\n",
              "      <td>NaN</td>\n",
              "      <td>SP</td>\n",
              "      <td>NaN</td>\n",
              "    </tr>\n",
              "    <tr>\n",
              "      <th>4</th>\n",
              "      <td>4</td>\n",
              "      <td>2023-05-11</td>\n",
              "      <td>NaN</td>\n",
              "      <td>RS</td>\n",
              "      <td>Capricha no peperoni</td>\n",
              "    </tr>\n",
              "  </tbody>\n",
              "</table>\n",
              "</div>\n",
              "    <div class=\"colab-df-buttons\">\n",
              "\n",
              "  <div class=\"colab-df-container\">\n",
              "    <button class=\"colab-df-convert\" onclick=\"convertToInteractive('df-4b12e89c-345a-4811-903c-d5f0d3da35a1')\"\n",
              "            title=\"Convert this dataframe to an interactive table.\"\n",
              "            style=\"display:none;\">\n",
              "\n",
              "  <svg xmlns=\"http://www.w3.org/2000/svg\" height=\"24px\" viewBox=\"0 -960 960 960\">\n",
              "    <path d=\"M120-120v-720h720v720H120Zm60-500h600v-160H180v160Zm220 220h160v-160H400v160Zm0 220h160v-160H400v160ZM180-400h160v-160H180v160Zm440 0h160v-160H620v160ZM180-180h160v-160H180v160Zm440 0h160v-160H620v160Z\"/>\n",
              "  </svg>\n",
              "    </button>\n",
              "\n",
              "  <style>\n",
              "    .colab-df-container {\n",
              "      display:flex;\n",
              "      gap: 12px;\n",
              "    }\n",
              "\n",
              "    .colab-df-convert {\n",
              "      background-color: #E8F0FE;\n",
              "      border: none;\n",
              "      border-radius: 50%;\n",
              "      cursor: pointer;\n",
              "      display: none;\n",
              "      fill: #1967D2;\n",
              "      height: 32px;\n",
              "      padding: 0 0 0 0;\n",
              "      width: 32px;\n",
              "    }\n",
              "\n",
              "    .colab-df-convert:hover {\n",
              "      background-color: #E2EBFA;\n",
              "      box-shadow: 0px 1px 2px rgba(60, 64, 67, 0.3), 0px 1px 3px 1px rgba(60, 64, 67, 0.15);\n",
              "      fill: #174EA6;\n",
              "    }\n",
              "\n",
              "    .colab-df-buttons div {\n",
              "      margin-bottom: 4px;\n",
              "    }\n",
              "\n",
              "    [theme=dark] .colab-df-convert {\n",
              "      background-color: #3B4455;\n",
              "      fill: #D2E3FC;\n",
              "    }\n",
              "\n",
              "    [theme=dark] .colab-df-convert:hover {\n",
              "      background-color: #434B5C;\n",
              "      box-shadow: 0px 1px 3px 1px rgba(0, 0, 0, 0.15);\n",
              "      filter: drop-shadow(0px 1px 2px rgba(0, 0, 0, 0.3));\n",
              "      fill: #FFFFFF;\n",
              "    }\n",
              "  </style>\n",
              "\n",
              "    <script>\n",
              "      const buttonEl =\n",
              "        document.querySelector('#df-4b12e89c-345a-4811-903c-d5f0d3da35a1 button.colab-df-convert');\n",
              "      buttonEl.style.display =\n",
              "        google.colab.kernel.accessAllowed ? 'block' : 'none';\n",
              "\n",
              "      async function convertToInteractive(key) {\n",
              "        const element = document.querySelector('#df-4b12e89c-345a-4811-903c-d5f0d3da35a1');\n",
              "        const dataTable =\n",
              "          await google.colab.kernel.invokeFunction('convertToInteractive',\n",
              "                                                    [key], {});\n",
              "        if (!dataTable) return;\n",
              "\n",
              "        const docLinkHtml = 'Like what you see? Visit the ' +\n",
              "          '<a target=\"_blank\" href=https://colab.research.google.com/notebooks/data_table.ipynb>data table notebook</a>'\n",
              "          + ' to learn more about interactive tables.';\n",
              "        element.innerHTML = '';\n",
              "        dataTable['output_type'] = 'display_data';\n",
              "        await google.colab.output.renderOutput(dataTable, element);\n",
              "        const docLink = document.createElement('div');\n",
              "        docLink.innerHTML = docLinkHtml;\n",
              "        element.appendChild(docLink);\n",
              "      }\n",
              "    </script>\n",
              "  </div>\n",
              "\n",
              "\n",
              "    <div id=\"df-dd53dcac-60fc-4c8b-8e1e-d49ec460895e\">\n",
              "      <button class=\"colab-df-quickchart\" onclick=\"quickchart('df-dd53dcac-60fc-4c8b-8e1e-d49ec460895e')\"\n",
              "                title=\"Suggest charts\"\n",
              "                style=\"display:none;\">\n",
              "\n",
              "<svg xmlns=\"http://www.w3.org/2000/svg\" height=\"24px\"viewBox=\"0 0 24 24\"\n",
              "     width=\"24px\">\n",
              "    <g>\n",
              "        <path d=\"M19 3H5c-1.1 0-2 .9-2 2v14c0 1.1.9 2 2 2h14c1.1 0 2-.9 2-2V5c0-1.1-.9-2-2-2zM9 17H7v-7h2v7zm4 0h-2V7h2v10zm4 0h-2v-4h2v4z\"/>\n",
              "    </g>\n",
              "</svg>\n",
              "      </button>\n",
              "\n",
              "<style>\n",
              "  .colab-df-quickchart {\n",
              "      --bg-color: #E8F0FE;\n",
              "      --fill-color: #1967D2;\n",
              "      --hover-bg-color: #E2EBFA;\n",
              "      --hover-fill-color: #174EA6;\n",
              "      --disabled-fill-color: #AAA;\n",
              "      --disabled-bg-color: #DDD;\n",
              "  }\n",
              "\n",
              "  [theme=dark] .colab-df-quickchart {\n",
              "      --bg-color: #3B4455;\n",
              "      --fill-color: #D2E3FC;\n",
              "      --hover-bg-color: #434B5C;\n",
              "      --hover-fill-color: #FFFFFF;\n",
              "      --disabled-bg-color: #3B4455;\n",
              "      --disabled-fill-color: #666;\n",
              "  }\n",
              "\n",
              "  .colab-df-quickchart {\n",
              "    background-color: var(--bg-color);\n",
              "    border: none;\n",
              "    border-radius: 50%;\n",
              "    cursor: pointer;\n",
              "    display: none;\n",
              "    fill: var(--fill-color);\n",
              "    height: 32px;\n",
              "    padding: 0;\n",
              "    width: 32px;\n",
              "  }\n",
              "\n",
              "  .colab-df-quickchart:hover {\n",
              "    background-color: var(--hover-bg-color);\n",
              "    box-shadow: 0 1px 2px rgba(60, 64, 67, 0.3), 0 1px 3px 1px rgba(60, 64, 67, 0.15);\n",
              "    fill: var(--button-hover-fill-color);\n",
              "  }\n",
              "\n",
              "  .colab-df-quickchart-complete:disabled,\n",
              "  .colab-df-quickchart-complete:disabled:hover {\n",
              "    background-color: var(--disabled-bg-color);\n",
              "    fill: var(--disabled-fill-color);\n",
              "    box-shadow: none;\n",
              "  }\n",
              "\n",
              "  .colab-df-spinner {\n",
              "    border: 2px solid var(--fill-color);\n",
              "    border-color: transparent;\n",
              "    border-bottom-color: var(--fill-color);\n",
              "    animation:\n",
              "      spin 1s steps(1) infinite;\n",
              "  }\n",
              "\n",
              "  @keyframes spin {\n",
              "    0% {\n",
              "      border-color: transparent;\n",
              "      border-bottom-color: var(--fill-color);\n",
              "      border-left-color: var(--fill-color);\n",
              "    }\n",
              "    20% {\n",
              "      border-color: transparent;\n",
              "      border-left-color: var(--fill-color);\n",
              "      border-top-color: var(--fill-color);\n",
              "    }\n",
              "    30% {\n",
              "      border-color: transparent;\n",
              "      border-left-color: var(--fill-color);\n",
              "      border-top-color: var(--fill-color);\n",
              "      border-right-color: var(--fill-color);\n",
              "    }\n",
              "    40% {\n",
              "      border-color: transparent;\n",
              "      border-right-color: var(--fill-color);\n",
              "      border-top-color: var(--fill-color);\n",
              "    }\n",
              "    60% {\n",
              "      border-color: transparent;\n",
              "      border-right-color: var(--fill-color);\n",
              "    }\n",
              "    80% {\n",
              "      border-color: transparent;\n",
              "      border-right-color: var(--fill-color);\n",
              "      border-bottom-color: var(--fill-color);\n",
              "    }\n",
              "    90% {\n",
              "      border-color: transparent;\n",
              "      border-bottom-color: var(--fill-color);\n",
              "    }\n",
              "  }\n",
              "</style>\n",
              "\n",
              "      <script>\n",
              "        async function quickchart(key) {\n",
              "          const quickchartButtonEl =\n",
              "            document.querySelector('#' + key + ' button');\n",
              "          quickchartButtonEl.disabled = true;  // To prevent multiple clicks.\n",
              "          quickchartButtonEl.classList.add('colab-df-spinner');\n",
              "          try {\n",
              "            const charts = await google.colab.kernel.invokeFunction(\n",
              "                'suggestCharts', [key], {});\n",
              "          } catch (error) {\n",
              "            console.error('Error during call to suggestCharts:', error);\n",
              "          }\n",
              "          quickchartButtonEl.classList.remove('colab-df-spinner');\n",
              "          quickchartButtonEl.classList.add('colab-df-quickchart-complete');\n",
              "        }\n",
              "        (() => {\n",
              "          let quickchartButtonEl =\n",
              "            document.querySelector('#df-dd53dcac-60fc-4c8b-8e1e-d49ec460895e button');\n",
              "          quickchartButtonEl.style.display =\n",
              "            google.colab.kernel.accessAllowed ? 'block' : 'none';\n",
              "        })();\n",
              "      </script>\n",
              "    </div>\n",
              "\n",
              "    </div>\n",
              "  </div>\n"
            ],
            "application/vnd.google.colaboratory.intrinsic+json": {
              "type": "dataframe",
              "repr_error": "Out of range float values are not JSON compliant: nan"
            }
          },
          "metadata": {}
        }
      ]
    },
    {
      "cell_type": "markdown",
      "source": [
        "TRansforma em sql"
      ],
      "metadata": {
        "id": "ER5f8viyc1dR"
      }
    },
    {
      "cell_type": "code",
      "source": [
        "df_pedido.to_sql('pedido', connection, if_exists='append', index=False)\n",
        "\n",
        "count_rows = \"SELECT COUNT(id_pedido) as count_id FROM pedido;\"\n",
        "print(execute_read_query(connection, count_rows))\n",
        "\n",
        "select_all = f\"SELECT * FROM pedido WHERE id_pedido < 5;\"\n",
        "execute_read_query(connection, select_all)"
      ],
      "metadata": {
        "colab": {
          "base_uri": "https://localhost:8080/"
        },
        "id": "6j5-KkoBoGe8",
        "outputId": "f27ea0f7-f5eb-4e68-8758-78af34b5b444"
      },
      "execution_count": 19,
      "outputs": [
        {
          "output_type": "stream",
          "name": "stdout",
          "text": [
            "[(1106,)]\n"
          ]
        },
        {
          "output_type": "execute_result",
          "data": {
            "text/plain": [
              "[(0, '2023-05-11', None, 'GO', None),\n",
              " (1, '2023-05-11', None, 'PR', 'Aquela pizza perfeita! :-D'),\n",
              " (2, '2023-05-11', None, 'SP', 'Muito obrigado!!'),\n",
              " (3, '2023-05-11', None, 'SP', None),\n",
              " (4, '2023-05-11', None, 'RS', 'Capricha no peperoni')]"
            ]
          },
          "metadata": {},
          "execution_count": 19
        }
      ]
    },
    {
      "cell_type": "markdown",
      "source": [],
      "metadata": {
        "id": "XrRxe_M1c5Ux"
      }
    }
  ],
  "metadata": {
    "colab": {
      "provenance": []
    },
    "kernelspec": {
      "display_name": "Python 3",
      "name": "python3"
    }
  },
  "nbformat": 4,
  "nbformat_minor": 0
}